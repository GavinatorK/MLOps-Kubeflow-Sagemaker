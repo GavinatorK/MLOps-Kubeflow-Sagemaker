{
 "cells": [
  {
   "cell_type": "markdown",
   "id": "a81872cf-a122-4406-99d6-cd34bfa6a1f5",
   "metadata": {},
   "source": [
    "## Build the Inference container for fastai \n",
    "\n",
    "In this notebook, we will build the inference container that can be used for both Batch Transform and End point"
   ]
  },
  {
   "cell_type": "code",
   "execution_count": 1,
   "id": "0f845c76-2f8f-415e-96f3-41ee8487ca32",
   "metadata": {
    "tags": []
   },
   "outputs": [],
   "source": [
    "#change permission on executable files \n",
    "!chmod +x code/*"
   ]
  },
  {
   "cell_type": "markdown",
   "id": "8df176b2-8452-43ba-8e55-061fdbf72f0d",
   "metadata": {},
   "source": [
    "Build the container locally"
   ]
  },
  {
   "cell_type": "code",
   "execution_count": 18,
   "id": "1fc5bd71-0f2b-4a01-a388-fd64970daac2",
   "metadata": {
    "tags": []
   },
   "outputs": [
    {
     "name": "stdout",
     "output_type": "stream",
     "text": [
      "Sending build context to Docker daemon  46.59kB\n",
      "Step 1/12 : FROM fastdotai/fastai:2021-02-11\n",
      " ---> c15a6ed2e7f0\n",
      "Step 2/12 : LABEL maintainer=\"Raj Kadiyala\"\n",
      " ---> Using cache\n",
      " ---> 7c3a3c5bba0b\n",
      "Step 3/12 : WORKDIR /\n",
      " ---> Using cache\n",
      " ---> 602a22496c69\n",
      "Step 4/12 : RUN pip3 install --no-cache --upgrade requests\n",
      " ---> Using cache\n",
      " ---> cb58cb65144a\n",
      "Step 5/12 : ENV PYTHONDONTWRITEBYTECODE=1     PYTHONUNBUFFERED=1     LD_LIBRARY_PATH=\"${LD_LIBRARY_PATH}:/usr/local/lib\"     PYTHONIOENCODING=UTF-8     LANG=C.UTF-8     LC_ALL=C.UTF-8\n",
      " ---> Using cache\n",
      " ---> d7a4ae39c1fd\n",
      "Step 6/12 : RUN apt-get -y update && apt-get install -y --no-install-recommends          wget          nginx          ca-certificates     && rm -rf /var/lib/apt/lists/*\n",
      " ---> Using cache\n",
      " ---> 39558a7c7758\n",
      "Step 7/12 : RUN pip3 install --no-cache --upgrade flask gunicorn\n",
      " ---> Using cache\n",
      " ---> fb2a396b33ac\n",
      "Step 8/12 : ENV PYTHONUNBUFFERED=TRUE\n",
      " ---> Using cache\n",
      " ---> bd4bcb39451c\n",
      "Step 9/12 : ENV PYTHONDONTWRITEBYTECODE=TRUE\n",
      " ---> Using cache\n",
      " ---> 9f5b08b3c4be\n",
      "Step 10/12 : ENV PATH=\"/opt/program:${PATH}\"\n",
      " ---> Using cache\n",
      " ---> cfa2c9921f82\n",
      "Step 11/12 : COPY code /opt/program\n",
      " ---> 0e125a794810\n",
      "Step 12/12 : WORKDIR /opt/program\n",
      " ---> Running in b730c0766f0c\n",
      "Removing intermediate container b730c0766f0c\n",
      " ---> 164653821e77\n",
      "Successfully built 164653821e77\n",
      "Successfully tagged fastaiinf:latest\n"
     ]
    }
   ],
   "source": [
    "!docker build -t fastaiinf ."
   ]
  },
  {
   "cell_type": "code",
   "execution_count": 12,
   "id": "5dd4c5f3-16ee-4c30-b187-52de9be598ed",
   "metadata": {
    "tags": []
   },
   "outputs": [
    {
     "name": "stdout",
     "output_type": "stream",
     "text": [
      "REPOSITORY                                                                                                 TAG          IMAGE ID       CREATED         SIZE\n",
      "fastaiinf                                                                                                  latest       4f4c1134454d   9 seconds ago   7.44GB\n",
      "973994155064.dkr.ecr.us-west-2.amazonaws.com/sagemaker-inference-containers/script-mode-container-fastai   latest       7d9a39eae960   18 hours ago    7.44GB\n",
      "973994155064.dkr.ecr.us-west-2.amazonaws.com/sagemaker-training-containers/script-mode-container-fastai    latest       6ce894314e19   18 hours ago    7.54GB\n",
      "fastai                                                                                                     latest       6ce894314e19   18 hours ago    7.54GB\n",
      "fastdotai/fastai                                                                                           2021-02-11   c15a6ed2e7f0   2 years ago     7.43GB\n"
     ]
    }
   ],
   "source": [
    "!docker images"
   ]
  },
  {
   "cell_type": "markdown",
   "id": "8c1d5b81-85c7-409c-929b-5058d406cc55",
   "metadata": {},
   "source": [
    "Authenticate to ECR using boto3 and set names for tags and ecr repository"
   ]
  },
  {
   "cell_type": "code",
   "execution_count": 13,
   "id": "5e0ecad1-8c98-4127-9032-113d23e186e8",
   "metadata": {
    "tags": []
   },
   "outputs": [],
   "source": [
    "import boto3\n",
    "import sagemaker\n",
    "ecr_namespace = \"sagemaker-inference-containers/\"\n",
    "prefix = \"script-mode-container-fastai\"\n",
    "role=sagemaker.get_execution_role()\n",
    "ecr_repository_name = ecr_namespace + prefix\n",
    "account_id = role.split(\":\")[4]\n",
    "region = boto3.Session().region_name\n",
    "tag_name=account_id+'.dkr.ecr.'+region+'.amazonaws.com/'+ecr_repository_name+':latest'"
   ]
  },
  {
   "cell_type": "markdown",
   "id": "40452244-c04d-4d61-a740-33a1c4806c2c",
   "metadata": {},
   "source": [
    "tag with ecr repository"
   ]
  },
  {
   "cell_type": "code",
   "execution_count": 19,
   "id": "72a34724-73e7-478e-a56c-b039267d2a02",
   "metadata": {
    "tags": []
   },
   "outputs": [],
   "source": [
    "!docker tag fastaiinf $tag_name"
   ]
  },
  {
   "cell_type": "markdown",
   "id": "b758f7f2-3837-48e8-ab8f-efd32c1dec7e",
   "metadata": {},
   "source": [
    "Create a ECR repo, if it already exists, you will get an error and you can ignore it "
   ]
  },
  {
   "cell_type": "markdown",
   "id": "199c2941-44a9-41e2-a0a7-9ce369af57b6",
   "metadata": {},
   "source": [
    "Authenticate into ECR "
   ]
  },
  {
   "cell_type": "code",
   "execution_count": 20,
   "id": "d7f56e7d-c43b-43bf-a3cf-c58faffe58b5",
   "metadata": {
    "tags": []
   },
   "outputs": [
    {
     "name": "stdout",
     "output_type": "stream",
     "text": [
      "WARNING! Using --password via the CLI is insecure. Use --password-stdin.\n",
      "WARNING! Your password will be stored unencrypted in /home/ec2-user/.docker/config.json.\n",
      "Configure a credential helper to remove this warning. See\n",
      "https://docs.docker.com/engine/reference/commandline/login/#credentials-store\n",
      "\n",
      "Login Succeeded\n"
     ]
    }
   ],
   "source": [
    "!$(aws ecr get-login --no-include-email)"
   ]
  },
  {
   "cell_type": "code",
   "execution_count": 7,
   "id": "794f375c-e4ed-4cdb-876b-7e783cfb9dff",
   "metadata": {
    "tags": []
   },
   "outputs": [
    {
     "name": "stdout",
     "output_type": "stream",
     "text": [
      "{\n",
      "    \"repository\": {\n",
      "        \"repositoryArn\": \"arn:aws:ecr:us-west-2:973994155064:repository/sagemaker-inference-containers/script-mode-container-fastai\",\n",
      "        \"registryId\": \"973994155064\",\n",
      "        \"repositoryName\": \"sagemaker-inference-containers/script-mode-container-fastai\",\n",
      "        \"repositoryUri\": \"973994155064.dkr.ecr.us-west-2.amazonaws.com/sagemaker-inference-containers/script-mode-container-fastai\",\n",
      "        \"createdAt\": 1677459262.0,\n",
      "        \"imageTagMutability\": \"MUTABLE\",\n",
      "        \"imageScanningConfiguration\": {\n",
      "            \"scanOnPush\": false\n",
      "        },\n",
      "        \"encryptionConfiguration\": {\n",
      "            \"encryptionType\": \"AES256\"\n",
      "        }\n",
      "    }\n",
      "}\n"
     ]
    }
   ],
   "source": [
    "!aws ecr create-repository --repository-name $ecr_repository_name"
   ]
  },
  {
   "cell_type": "markdown",
   "id": "3e8f86e8-8663-4b76-b5c7-23cb06ebbe92",
   "metadata": {},
   "source": [
    "Push the local image to ECR"
   ]
  },
  {
   "cell_type": "code",
   "execution_count": 21,
   "id": "a607935e-84a0-443a-b948-e6fef8d96001",
   "metadata": {
    "tags": []
   },
   "outputs": [
    {
     "name": "stdout",
     "output_type": "stream",
     "text": [
      "The push refers to repository [973994155064.dkr.ecr.us-west-2.amazonaws.com/sagemaker-inference-containers/script-mode-container-fastai]\n",
      "\n",
      "\u001b[1B830bb069: Preparing \n",
      "\u001b[1Bf36eacc4: Preparing \n",
      "\u001b[1B43552477: Preparing \n",
      "\u001b[1Baa25ed6c: Preparing \n",
      "\u001b[1B03119f42: Preparing \n",
      "\u001b[1B9d9efed5: Preparing \n",
      "\u001b[1B5dee3f41: Preparing \n",
      "\u001b[1Be46047de: Preparing \n",
      "\u001b[1Bea1e71e9: Preparing \n",
      "\u001b[1Bbf18a086: Preparing \n",
      "\u001b[1Bfc49132e: Preparing \n",
      "\u001b[7B9d9efed5: Waiting g \n",
      "\u001b[1B5da50cc0: Preparing \n",
      "\u001b[1B722bdc07: Preparing \n",
      "\u001b[1Bb673a1d6: Preparing \n",
      "\u001b[1B150d2459: Preparing \n",
      "\u001b[1B6268583e: Preparing \n",
      "\u001b[1Bcc6eae8b: Preparing \n",
      "\u001b[1B8881187d: Preparing \n",
      "\u001b[1B5df75b44: Preparing \n",
      "\u001b[21B30bb069: Pushed lready exists 2kB1A\u001b[2K\u001b[12A\u001b[2K\u001b[8A\u001b[2K\u001b[3A\u001b[2K\u001b[21A\u001b[2Klatest: digest: sha256:981eff4ab4537abb40d29d3a595a5094796465d8742f14584e2e06c2332e6101 size: 4925\n"
     ]
    }
   ],
   "source": [
    "!docker push $tag_name"
   ]
  },
  {
   "cell_type": "code",
   "execution_count": 22,
   "id": "caa82c38-0a08-4149-962c-ff439fc736b2",
   "metadata": {
    "tags": []
   },
   "outputs": [
    {
     "data": {
      "text/plain": [
       "'973994155064.dkr.ecr.us-west-2.amazonaws.com/sagemaker-inference-containers/script-mode-container-fastai:latest'"
      ]
     },
     "execution_count": 22,
     "metadata": {},
     "output_type": "execute_result"
    }
   ],
   "source": [
    "tag_name"
   ]
  },
  {
   "cell_type": "code",
   "execution_count": null,
   "id": "a710ab88-3eb5-4366-b0a0-4e86daa0177f",
   "metadata": {},
   "outputs": [],
   "source": []
  }
 ],
 "metadata": {
  "kernelspec": {
   "display_name": "conda_python3",
   "language": "python",
   "name": "conda_python3"
  },
  "language_info": {
   "codemirror_mode": {
    "name": "ipython",
    "version": 3
   },
   "file_extension": ".py",
   "mimetype": "text/x-python",
   "name": "python",
   "nbconvert_exporter": "python",
   "pygments_lexer": "ipython3",
   "version": "3.10.8"
  }
 },
 "nbformat": 4,
 "nbformat_minor": 5
}
