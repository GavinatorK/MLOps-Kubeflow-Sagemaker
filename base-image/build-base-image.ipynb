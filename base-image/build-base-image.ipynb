{
 "cells": [
  {
   "cell_type": "code",
   "execution_count": null,
   "id": "b961ac8e-f948-402c-9f54-82ce28ba4a7d",
   "metadata": {},
   "outputs": [],
   "source": [
    "%cd base-image/"
   ]
  },
  {
   "cell_type": "code",
   "execution_count": null,
   "id": "7c433658-2e16-4850-ad5c-8507b384b0df",
   "metadata": {
    "tags": []
   },
   "outputs": [],
   "source": [
    "pwd"
   ]
  },
  {
   "cell_type": "code",
   "execution_count": null,
   "id": "c6261753-2e88-478f-87c9-9c3e1156c5af",
   "metadata": {
    "tags": []
   },
   "outputs": [],
   "source": [
    "!docker build -t baseimg ."
   ]
  },
  {
   "cell_type": "code",
   "execution_count": null,
   "id": "c00b41b9-5e1a-42f6-91b6-3f59f1f148a5",
   "metadata": {
    "tags": []
   },
   "outputs": [],
   "source": [
    "!docker images"
   ]
  },
  {
   "cell_type": "code",
   "execution_count": null,
   "id": "0bb7d4f0-78d7-433b-a7f1-f002caf8efbd",
   "metadata": {
    "tags": []
   },
   "outputs": [],
   "source": [
    "import boto3\n",
    "import sagemaker\n",
    "ecr_namespace = \"kubeflow-containers/\"\n",
    "prefix = \"base-sklearn-image\"\n",
    "role = sagemaker.get_execution_role()\n",
    "ecr_repository_name = ecr_namespace + prefix\n",
    "account_id = role.split(\":\")[4]\n",
    "region = boto3.Session().region_name\n",
    "tag_name=account_id+'.dkr.ecr.'+region+'.amazonaws.com/'+ecr_repository_name+':latest'"
   ]
  },
  {
   "cell_type": "code",
   "execution_count": null,
   "id": "0adcc0cf-2272-4095-9b0f-7754a82fc1fe",
   "metadata": {
    "tags": []
   },
   "outputs": [],
   "source": [
    "!docker tag baseimg $tag_name"
   ]
  },
  {
   "cell_type": "code",
   "execution_count": null,
   "id": "b64209a1-90ff-49b7-8fc3-dd88522c0183",
   "metadata": {
    "tags": []
   },
   "outputs": [],
   "source": [
    "!$(aws ecr get-login --no-include-email)"
   ]
  },
  {
   "cell_type": "code",
   "execution_count": null,
   "id": "629f181f-d87e-4a50-9775-3ef8addee8f4",
   "metadata": {
    "tags": []
   },
   "outputs": [],
   "source": [
    "!aws ecr create-repository --repository-name $ecr_repository_name"
   ]
  },
  {
   "cell_type": "code",
   "execution_count": null,
   "id": "63abb6af-7b99-40c9-bca1-1fd8d61cd3e8",
   "metadata": {
    "tags": []
   },
   "outputs": [],
   "source": [
    "!docker push $tag_name"
   ]
  },
  {
   "cell_type": "code",
   "execution_count": null,
   "id": "e95b3d41-8ff7-4e15-9df8-b2af6b9bacc4",
   "metadata": {
    "tags": []
   },
   "outputs": [],
   "source": [
    "tag_name"
   ]
  },
  {
   "cell_type": "code",
   "execution_count": null,
   "id": "cd4beba3-857a-403e-86f3-ce345ed7319c",
   "metadata": {},
   "outputs": [],
   "source": []
  }
 ],
 "metadata": {
  "kernelspec": {
   "display_name": "conda_python3",
   "language": "python",
   "name": "conda_python3"
  },
  "language_info": {
   "codemirror_mode": {
    "name": "ipython",
    "version": 3
   },
   "file_extension": ".py",
   "mimetype": "text/x-python",
   "name": "python",
   "nbconvert_exporter": "python",
   "pygments_lexer": "ipython3",
   "version": "3.10.8"
  }
 },
 "nbformat": 4,
 "nbformat_minor": 5
}
