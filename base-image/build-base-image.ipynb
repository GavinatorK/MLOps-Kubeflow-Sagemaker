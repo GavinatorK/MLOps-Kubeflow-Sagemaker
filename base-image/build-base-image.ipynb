{
 "cells": [
  {
   "cell_type": "code",
   "execution_count": 3,
   "id": "b961ac8e-f948-402c-9f54-82ce28ba4a7d",
   "metadata": {},
   "outputs": [
    {
     "name": "stdout",
     "output_type": "stream",
     "text": [
      "/home/ec2-user/SageMaker/MLOps-Kubeflow/base-image\n"
     ]
    }
   ],
   "source": [
    "%cd base-image/"
   ]
  },
  {
   "cell_type": "code",
   "execution_count": 77,
   "id": "7c433658-2e16-4850-ad5c-8507b384b0df",
   "metadata": {
    "tags": []
   },
   "outputs": [
    {
     "data": {
      "text/plain": [
       "'/home/ec2-user/SageMaker/MLOps-Kubeflow/base-image'"
      ]
     },
     "execution_count": 77,
     "metadata": {},
     "output_type": "execute_result"
    }
   ],
   "source": [
    "pwd"
   ]
  },
  {
   "cell_type": "code",
   "execution_count": 58,
   "id": "c6261753-2e88-478f-87c9-9c3e1156c5af",
   "metadata": {
    "tags": []
   },
   "outputs": [
    {
     "name": "stdout",
     "output_type": "stream",
     "text": [
      "Sending build context to Docker daemon  19.97kB\n",
      "Step 1/4 : FROM ubuntu:20.04\n",
      " ---> e40cf56b4be3\n",
      "Step 2/4 : RUN set -xe  && apt-get update -y  && apt-get install -y python3-pip  && apt install -y python-is-python3\n",
      " ---> Using cache\n",
      " ---> b5d7795c5753\n",
      "Step 3/4 : RUN pip3 install pip --upgrade\n",
      " ---> Using cache\n",
      " ---> 5fb9d7e61946\n",
      "Step 4/4 : RUN pip3 --no-cache-dir install numpy scikit-learn pandas boto3\n",
      " ---> Using cache\n",
      " ---> 822d9c6efdbb\n",
      "Successfully built 822d9c6efdbb\n",
      "Successfully tagged base-img:latest\n"
     ]
    }
   ],
   "source": [
    "!docker build -t base-img ."
   ]
  },
  {
   "cell_type": "code",
   "execution_count": 59,
   "id": "c00b41b9-5e1a-42f6-91b6-3f59f1f148a5",
   "metadata": {
    "tags": []
   },
   "outputs": [
    {
     "name": "stdout",
     "output_type": "stream",
     "text": [
      "REPOSITORY                                                                                                 TAG          IMAGE ID       CREATED          SIZE\n",
      "973994155064.dkr.ecr.us-west-2.amazonaws.com/kubeflow-containers/base-image                                latest       822d9c6efdbb   12 minutes ago   811MB\n",
      "base-img                                                                                                   latest       822d9c6efdbb   12 minutes ago   811MB\n",
      "baseimg                                                                                                    latest       822d9c6efdbb   12 minutes ago   811MB\n",
      "973994155064.dkr.ecr.us-west-2.amazonaws.com/sagemaker-inference-containers/script-mode-container-fastai   latest       164653821e77   2 hours ago      7.44GB\n",
      "fastaiinf                                                                                                  latest       164653821e77   2 hours ago      7.44GB\n",
      "973994155064.dkr.ecr.us-west-2.amazonaws.com/sagemaker-inference-containers/script-mode-container-fastai   <none>       4f4c1134454d   2 hours ago      7.44GB\n",
      "973994155064.dkr.ecr.us-west-2.amazonaws.com/sagemaker-inference-containers/script-mode-container-fastai   <none>       7d9a39eae960   20 hours ago     7.44GB\n",
      "973994155064.dkr.ecr.us-west-2.amazonaws.com/sagemaker-training-containers/script-mode-container-fastai    latest       6ce894314e19   20 hours ago     7.54GB\n",
      "fastai                                                                                                     latest       6ce894314e19   20 hours ago     7.54GB\n",
      "ubuntu                                                                                                     20.04        e40cf56b4be3   3 weeks ago      72.8MB\n",
      "fastdotai/fastai                                                                                           2021-02-11   c15a6ed2e7f0   2 years ago      7.43GB\n"
     ]
    }
   ],
   "source": [
    "!docker images"
   ]
  },
  {
   "cell_type": "code",
   "execution_count": 64,
   "id": "0bb7d4f0-78d7-433b-a7f1-f002caf8efbd",
   "metadata": {
    "tags": []
   },
   "outputs": [],
   "source": [
    "import boto3\n",
    "import sagemaker\n",
    "ecr_namespace = \"kubeflow-containers/\"\n",
    "prefix = \"base-image-1\"\n",
    "role = sagemaker.get_execution_role()\n",
    "ecr_repository_name = ecr_namespace + prefix\n",
    "account_id = role.split(\":\")[4]\n",
    "region = boto3.Session().region_name\n",
    "tag_name=account_id+'.dkr.ecr.'+region+'.amazonaws.com/'+ecr_repository_name+':latest'"
   ]
  },
  {
   "cell_type": "code",
   "execution_count": 65,
   "id": "0adcc0cf-2272-4095-9b0f-7754a82fc1fe",
   "metadata": {
    "tags": []
   },
   "outputs": [],
   "source": [
    "!docker tag base-img $tag_name"
   ]
  },
  {
   "cell_type": "code",
   "execution_count": 75,
   "id": "b64209a1-90ff-49b7-8fc3-dd88522c0183",
   "metadata": {
    "tags": []
   },
   "outputs": [
    {
     "name": "stdout",
     "output_type": "stream",
     "text": [
      "WARNING! Your password will be stored unencrypted in /home/ec2-user/.docker/config.json.\n",
      "Configure a credential helper to remove this warning. See\n",
      "https://docs.docker.com/engine/reference/commandline/login/#credentials-store\n",
      "\n",
      "Login Succeeded\n"
     ]
    }
   ],
   "source": [
    "!aws ecr get-login-password --region us-west-2 | docker login --username AWS --password-stdin 973994155064.dkr.ecr.us-west-2.amazonaws.com"
   ]
  },
  {
   "cell_type": "code",
   "execution_count": 71,
   "id": "629f181f-d87e-4a50-9775-3ef8addee8f4",
   "metadata": {
    "tags": []
   },
   "outputs": [
    {
     "name": "stdout",
     "output_type": "stream",
     "text": [
      "Note: AWS CLI version 2, the latest major version of the AWS CLI, is now stable and recommended for general use. For more information, see the AWS CLI version 2 installation instructions at: https://docs.aws.amazon.com/cli/latest/userguide/install-cliv2.html\n",
      "\n",
      "usage: aws [options] <command> <subcommand> [<subcommand> ...] [parameters]\n",
      "To see help text, you can run:\n",
      "\n",
      "  aws help\n",
      "  aws <command> help\n",
      "  aws <command> <subcommand> help\n",
      "\n",
      "Unknown options: --regions, us-west-2\n"
     ]
    }
   ],
   "source": [
    "!aws ecr create-repository --repository-name $ecr_repository_name --regions us-west-2"
   ]
  },
  {
   "cell_type": "code",
   "execution_count": 76,
   "id": "63abb6af-7b99-40c9-bca1-1fd8d61cd3e8",
   "metadata": {
    "tags": []
   },
   "outputs": [
    {
     "name": "stdout",
     "output_type": "stream",
     "text": [
      "The push refers to repository [973994155064.dkr.ecr.us-west-2.amazonaws.com/kubeflow-containers/base-image]\n",
      "\n",
      "\u001b[1Bb10b47f8: Preparing \n",
      "\u001b[1B447fda05: Preparing \n",
      "\u001b[1Be91ad36f: Preparing \n",
      "\u001b[1Bb8cad89e: Retrying in 8 seconds  [1A\u001b[2K\u001b[2A\u001b[2K\u001b[1A\u001b[2K\u001b[2A\u001b[2K\u001b[1A\u001b[2K\u001b[2A\u001b[2K\u001b[4A\u001b[2K\u001b[2A\u001b[2K\u001b[1A\u001b[2K\u001b[2A\u001b[2K\u001b[2A\u001b[2K\u001b[3A\u001b[2K\u001b[2A\u001b[2K\u001b[1A\u001b[2K\u001b[2A\u001b[2K\u001b[1A\u001b[2K\u001b[2A\u001b[2K\u001b[2A\u001b[2K\u001b[1A\u001b[2K\u001b[2A\u001b[2K\u001b[1A\u001b[2K\u001b[2A\u001b[2K\u001b[1A\u001b[2K\u001b[2A\u001b[2K\u001b[3A\u001b[2K\u001b[2A\u001b[2K\u001b[1A\u001b[2K\u001b[2A\u001b[2K\u001b[2A\u001b[2K\u001b[1A\u001b[2K\u001b[2A\u001b[2K\u001b[1A\u001b[2K\u001b[2A\u001b[2K\u001b[2A\u001b[2K\u001b[3A\u001b[2K\u001b[2A\u001b[2K\u001b[1A\u001b[2K\u001b[2A\u001b[2K\u001b[1A\u001b[2K\u001b[2A\u001b[2K^C\n"
     ]
    }
   ],
   "source": [
    "!docker push 973994155064.dkr.ecr.us-west-2.amazonaws.com/kubeflow-containers/base-image:latest"
   ]
  },
  {
   "cell_type": "code",
   "execution_count": 31,
   "id": "e95b3d41-8ff7-4e15-9df8-b2af6b9bacc4",
   "metadata": {
    "tags": []
   },
   "outputs": [
    {
     "data": {
      "text/plain": [
       "'973994155064.dkr.ecr.us-west-2.amazonaws.com/kubeflow-containers/base-image:latest'"
      ]
     },
     "execution_count": 31,
     "metadata": {},
     "output_type": "execute_result"
    }
   ],
   "source": [
    "tag_name"
   ]
  },
  {
   "cell_type": "code",
   "execution_count": null,
   "id": "cd4beba3-857a-403e-86f3-ce345ed7319c",
   "metadata": {},
   "outputs": [],
   "source": []
  }
 ],
 "metadata": {
  "kernelspec": {
   "display_name": "conda_python3",
   "language": "python",
   "name": "conda_python3"
  },
  "language_info": {
   "codemirror_mode": {
    "name": "ipython",
    "version": 3
   },
   "file_extension": ".py",
   "mimetype": "text/x-python",
   "name": "python",
   "nbconvert_exporter": "python",
   "pygments_lexer": "ipython3",
   "version": "3.10.8"
  }
 },
 "nbformat": 4,
 "nbformat_minor": 5
}
